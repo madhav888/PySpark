{
 "cells": [
  {
   "attachments": {},
   "cell_type": "markdown",
   "metadata": {},
   "source": [
    "Import the PySpark Libraries and create an instance of the SparkContext."
   ]
  },
  {
   "cell_type": "code",
   "execution_count": 1,
   "metadata": {},
   "outputs": [],
   "source": [
    "from pyspark import SparkContext, SparkConf\n",
    "scf = SparkConf().setAppName(\"1_1\").setMaster(\"local[*]\")\n",
    "sct = SparkContext(conf=scf)"
   ]
  },
  {
   "cell_type": "code",
   "execution_count": 2,
   "metadata": {},
   "outputs": [
    {
     "data": {
      "text/plain": [
       "[2.2, 3.4, 4.3, 2.4, 2.3, 4.0]"
      ]
     },
     "execution_count": 2,
     "metadata": {},
     "output_type": "execute_result"
    }
   ],
   "source": [
    "pl = [2.2,3.4,4.3,2.4,2.3,4.0]  # List Data\n",
    "parpl = sct.parallelize(pl,2)   # Parallelize the List Data\n",
    "parpl.collect()                 # Collect is only for Debugging"
   ]
  },
  {
   "cell_type": "code",
   "execution_count": 3,
   "metadata": {},
   "outputs": [
    {
     "data": {
      "text/plain": [
       "2.2"
      ]
     },
     "execution_count": 3,
     "metadata": {},
     "output_type": "execute_result"
    }
   ],
   "source": [
    "parpl.first()"
   ]
  },
  {
   "cell_type": "code",
   "execution_count": 7,
   "metadata": {},
   "outputs": [
    {
     "data": {
      "text/plain": [
       "[2.2, 3.4]"
      ]
     },
     "execution_count": 7,
     "metadata": {},
     "output_type": "execute_result"
    }
   ],
   "source": [
    "parpl.take(2)"
   ]
  },
  {
   "cell_type": "code",
   "execution_count": 8,
   "metadata": {},
   "outputs": [
    {
     "data": {
      "text/plain": [
       "2"
      ]
     },
     "execution_count": 8,
     "metadata": {},
     "output_type": "execute_result"
    }
   ],
   "source": [
    "parpl.getNumPartitions()"
   ]
  },
  {
   "attachments": {},
   "cell_type": "markdown",
   "metadata": {},
   "source": [
    "Convert temperature from Fahrenheit to Celsius\n",
    "\n",
    "C = (F – 32) × 5/9\n",
    "\n",
    "• Convert temperature from Fahrenheit to Celsius\n",
    "\n",
    "• Get all the temperature data points greater than 13o C"
   ]
  },
  {
   "cell_type": "code",
   "execution_count": 10,
   "metadata": {},
   "outputs": [
    {
     "data": {
      "text/plain": [
       "[59, 57.2, 53.6, 55.4, 51.8, 53.6, 55.4]"
      ]
     },
     "execution_count": 10,
     "metadata": {},
     "output_type": "execute_result"
    }
   ],
   "source": [
    "tempData = [59,57.2,53.6,55.4,51.8,53.6,55.4]\n",
    "parTempData = sct.parallelize(tempData,2)\n",
    "parTempData.collect()"
   ]
  },
  {
   "cell_type": "code",
   "execution_count": 11,
   "metadata": {},
   "outputs": [],
   "source": [
    "def fahrenheitToCentigrade(temperature) :\n",
    "    centigrade = (temperature-32)*5/9\n",
    "    return centigrade"
   ]
  },
  {
   "cell_type": "code",
   "execution_count": 13,
   "metadata": {},
   "outputs": [
    {
     "data": {
      "text/plain": [
       "[15.0, 14.000000000000002, 12.0, 13.0, 10.999999999999998, 12.0, 13.0]"
      ]
     },
     "execution_count": 13,
     "metadata": {},
     "output_type": "execute_result"
    }
   ],
   "source": [
    "parCentigradeData = parTempData.map(fahrenheitToCentigrade)\n",
    "parCentigradeData.collect()"
   ]
  },
  {
   "attachments": {},
   "cell_type": "markdown",
   "metadata": {},
   "source": [
    "Get all the temperature data points greater than 13o C\n",
    "\n",
    "We are going to send our tempMoreThanThirteen function as input to the filter()\n",
    "function. The filter() function will iterate over each value in the parCentigradeData\n",
    "RDD. For each value, the tempMoreThanThirteen function will be applied. If the\n",
    "value is greater than or equal to 13, True will be returned. The value for which\n",
    "tempMoreThanThirteen returns True will come to filteredTemprature:"
   ]
  },
  {
   "cell_type": "code",
   "execution_count": 14,
   "metadata": {},
   "outputs": [],
   "source": [
    "def tempMoreThanThirteen(temperature):\n",
    "    return temperature >=13"
   ]
  },
  {
   "cell_type": "code",
   "execution_count": 15,
   "metadata": {},
   "outputs": [
    {
     "data": {
      "text/plain": [
       "[15.0, 14.000000000000002, 13.0, 13.0]"
      ]
     },
     "execution_count": 15,
     "metadata": {},
     "output_type": "execute_result"
    }
   ],
   "source": [
    "filteredTemprature = parCentigradeData.filter(tempMoreThanThirteen)\n",
    "filteredTemprature.collect()"
   ]
  },
  {
   "attachments": {},
   "cell_type": "markdown",
   "metadata": {},
   "source": [
    "Replace our predicates by using the lambda function."
   ]
  },
  {
   "cell_type": "code",
   "execution_count": 16,
   "metadata": {},
   "outputs": [
    {
     "data": {
      "text/plain": [
       "[15.0, 14.000000000000002, 13.0, 13.0]"
      ]
     },
     "execution_count": 16,
     "metadata": {},
     "output_type": "execute_result"
    }
   ],
   "source": [
    "filteredTemprature = parCentigradeData.filter(lambda x : x>=13)\n",
    "filteredTemprature.collect()"
   ]
  },
  {
   "attachments": {},
   "cell_type": "markdown",
   "metadata": {},
   "source": [
    "Data Manipulation\n",
    "\n",
    "You want to calculate the following:\n",
    "\n",
    "• Average grades per semester, each year, for each student\n",
    "\n",
    "• Top three students who have the highest average grades in the\n",
    "second year\n",
    "\n",
    "• Bottom three students who have the lowest average grades in the\n",
    "second year\n",
    "\n",
    "• All students who have earned more than an 80% average in the\n",
    "second semester of the second year\n",
    "Using the map() function is often helpful. In this example, the average grades per\n",
    "semester, for each year, can be calculated using map().\n",
    "\n",
    "It is a general data science problem to get the top k elements, such as the top k highly\n",
    "performing bonds. The PySpark takeOrdered() function is going to take the top k or top\n",
    "bottom elements from our RDD.\n",
    "Students who have earned more than 80% averages in the second year can be filtered\n",
    "using the filter() function."
   ]
  },
  {
   "cell_type": "code",
   "execution_count": 18,
   "metadata": {},
   "outputs": [],
   "source": [
    "#   Making a List from a Given Table\n",
    "studentMarksData = [\n",
    "    [\"si1\",\"year1\",62.08,62.4], [\"si1\",\"year2\",75.94,76.75], [\"si2\",\"year1\",68.26,72.95],\n",
    "    [\"si2\",\"year2\",85.49,75.8], [\"si3\",\"year1\",75.08,79.84], [\"si3\",\"year2\",54.98,87.72],\n",
    "    [\"si4\",\"year1\",50.03,66.85], [\"si4\",\"year2\",71.26,69.77], [\"si5\",\"year1\",52.74,76.27],\n",
    "    [\"si5\",\"year2\",50.39,68.58], [\"si6\",\"year1\",74.86,60.8], [\"si6\",\"year2\",58.29,62.38], \n",
    "    [\"si7\",\"year1\",63.95,74.51], [\"si7\",\"year2\",66.69,56.92]\n",
    "                    ]"
   ]
  },
  {
   "cell_type": "code",
   "execution_count": 20,
   "metadata": {},
   "outputs": [],
   "source": [
    "studentMarksDataRDD = sct.parallelize(studentMarksData,4)"
   ]
  },
  {
   "cell_type": "code",
   "execution_count": 21,
   "metadata": {},
   "outputs": [
    {
     "data": {
      "text/plain": [
       "[['si1', 'year1', 62.08, 62.4], ['si1', 'year2', 75.94, 76.75]]"
      ]
     },
     "execution_count": 21,
     "metadata": {},
     "output_type": "execute_result"
    }
   ],
   "source": [
    "#   fetch 2 first elements of an RDD\n",
    "studentMarksDataRDD.take(2)"
   ]
  },
  {
   "cell_type": "code",
   "execution_count": 26,
   "metadata": {},
   "outputs": [
    {
     "data": {
      "text/plain": [
       "[['si1', 'year1', 124.47999999999999, 62.239999999999995],\n",
       " ['si1', 'year2', 152.69, 76.345]]"
      ]
     },
     "execution_count": 26,
     "metadata": {},
     "output_type": "execute_result"
    }
   ],
   "source": [
    "#   Calculating Average Semester Grades\n",
    "studentMarksMean = studentMarksDataRDD.map(lambda x : [x[0], x[1], (x[2]+x[3]), (x[2]+x[3])/2] )\n",
    "studentMarksMean.take(2)"
   ]
  },
  {
   "cell_type": "code",
   "execution_count": 29,
   "metadata": {},
   "outputs": [
    {
     "data": {
      "text/plain": [
       "[['si1', 'year2', 152.69, 76.345], ['si2', 'year2', 161.29, 80.645]]"
      ]
     },
     "execution_count": 29,
     "metadata": {},
     "output_type": "execute_result"
    }
   ],
   "source": [
    "#   Filtering Student Average Grades in the Second Year\n",
    "secondYearMarks = studentMarksMean.filter(lambda x : x[1] == 'year2')\n",
    "secondYearMarks.take(2)"
   ]
  },
  {
   "cell_type": "code",
   "execution_count": 31,
   "metadata": {},
   "outputs": [
    {
     "data": {
      "text/plain": [
       "[['si2', 'year2', 161.29, 80.645],\n",
       " ['si1', 'year2', 152.69, 76.345],\n",
       " ['si3', 'year2', 142.7, 71.35]]"
      ]
     },
     "execution_count": 31,
     "metadata": {},
     "output_type": "execute_result"
    }
   ],
   "source": [
    "#   Finding the Top Three Students\n",
    "SortedSecondYearMarks = secondYearMarks.sortBy(keyfunc= lambda x : -x[3])\n",
    "SortedSecondYearMarks.take(3)"
   ]
  },
  {
   "cell_type": "code",
   "execution_count": 32,
   "metadata": {},
   "outputs": [
    {
     "data": {
      "text/plain": [
       "[['si2', 'year2', 161.29, 80.645],\n",
       " ['si1', 'year2', 152.69, 76.345],\n",
       " ['si3', 'year2', 142.7, 71.35]]"
      ]
     },
     "execution_count": 32,
     "metadata": {},
     "output_type": "execute_result"
    }
   ],
   "source": [
    "#   The better way to find Top 3 Students\n",
    "topThreeStudents = secondYearMarks.takeOrdered(num=3, key = lambda x :-x[3])\n",
    "topThreeStudents"
   ]
  },
  {
   "cell_type": "code",
   "execution_count": 36,
   "metadata": {},
   "outputs": [
    {
     "data": {
      "text/plain": [
       "[['si5', 'year2', 118.97, 59.485],\n",
       " ['si6', 'year2', 120.67, 60.335],\n",
       " ['si7', 'year2', 123.61, 61.805]]"
      ]
     },
     "execution_count": 36,
     "metadata": {},
     "output_type": "execute_result"
    }
   ],
   "source": [
    "#   Finding the Bottom 3 Students\n",
    "bottomThreeStudents = secondYearMarks.takeOrdered(num=3, key = lambda x :x[3])\n",
    "bottomThreeStudents"
   ]
  },
  {
   "cell_type": "code",
   "execution_count": 39,
   "metadata": {},
   "outputs": [
    {
     "data": {
      "text/plain": [
       "[['si2', 'year2', 161.29, 80.645]]"
      ]
     },
     "execution_count": 39,
     "metadata": {},
     "output_type": "execute_result"
    }
   ],
   "source": [
    "#   Getting All Students with 80% Averages\n",
    "Students80 = secondYearMarks.filter(lambda x : x[3] >=80)\n",
    "Students80.take(2)"
   ]
  },
  {
   "attachments": {},
   "cell_type": "markdown",
   "metadata": {},
   "source": [
    "Set Operations\n",
    "\n",
    "How many research projects were initiated in the three years?\n",
    "\n",
    "• How many projects were completed in the first year?\n",
    "\n",
    "• How many projects were completed in the first two years?\n",
    "\n",
    "\n",
    "PySpark performs pseudo set operations.\n",
    "They are called pseudo set operations because some functions do not remove duplicate\n",
    "elements."
   ]
  },
  {
   "cell_type": "code",
   "execution_count": 40,
   "metadata": {},
   "outputs": [],
   "source": [
    "#   Creating a List of Research Data by Year\n",
    "data2001 = ['RIN1', 'RIN2', 'RIN3', 'RIN4', 'RIN5', 'RIN6', 'RIN7']\n",
    "data2002 = ['RIN3', 'RIN4', 'RIN7', 'RIN8', 'RIN9']\n",
    "data2003 = ['RIN4', 'RIN8', 'RIN10', 'RIN11', 'RIN12']"
   ]
  },
  {
   "cell_type": "code",
   "execution_count": 45,
   "metadata": {},
   "outputs": [],
   "source": [
    "#   Parallelize the Data\n",
    "parData2001 = sct.parallelize(data2001,2)\n",
    "parData2002 = sct.parallelize(data2002,2)\n",
    "parData2003 = sct.parallelize(data2003,2)"
   ]
  },
  {
   "cell_type": "code",
   "execution_count": 46,
   "metadata": {},
   "outputs": [
    {
     "data": {
      "text/plain": [
       "['RIN1',\n",
       " 'RIN2',\n",
       " 'RIN3',\n",
       " 'RIN4',\n",
       " 'RIN5',\n",
       " 'RIN6',\n",
       " 'RIN7',\n",
       " 'RIN3',\n",
       " 'RIN4',\n",
       " 'RIN7',\n",
       " 'RIN8',\n",
       " 'RIN9',\n",
       " 'RIN4',\n",
       " 'RIN8',\n",
       " 'RIN10',\n",
       " 'RIN11',\n",
       " 'RIN12']"
      ]
     },
     "execution_count": 46,
     "metadata": {},
     "output_type": "execute_result"
    }
   ],
   "source": [
    "#   Finding Projects Initiated in Three Years\n",
    "Uni_1_2 = parData2001.union(parData2002)\n",
    "Uni_123 = Uni_1_2.union(parData2003)\n",
    "Uni_123.collect()"
   ]
  },
  {
   "attachments": {},
   "cell_type": "markdown",
   "metadata": {},
   "source": [
    "Making Sets of Distinct Data"
   ]
  },
  {
   "cell_type": "code",
   "execution_count": 47,
   "metadata": {},
   "outputs": [
    {
     "data": {
      "text/plain": [
       "['RIN1',\n",
       " 'RIN10',\n",
       " 'RIN12',\n",
       " 'RIN2',\n",
       " 'RIN3',\n",
       " 'RIN5',\n",
       " 'RIN8',\n",
       " 'RIN4',\n",
       " 'RIN9',\n",
       " 'RIN11',\n",
       " 'RIN6',\n",
       " 'RIN7']"
      ]
     },
     "execution_count": 47,
     "metadata": {},
     "output_type": "execute_result"
    }
   ],
   "source": [
    "#   get rid of Duplicates\n",
    "allUnique = Uni_123.distinct()\n",
    "allUnique.collect()"
   ]
  },
  {
   "cell_type": "code",
   "execution_count": 49,
   "metadata": {},
   "outputs": [
    {
     "data": {
      "text/plain": [
       "12"
      ]
     },
     "execution_count": 49,
     "metadata": {},
     "output_type": "execute_result"
    }
   ],
   "source": [
    "#   Counting Distinct Elements\n",
    "Uni_123.distinct().count()"
   ]
  },
  {
   "attachments": {},
   "cell_type": "markdown",
   "metadata": {},
   "source": [
    "The Easy Way for me"
   ]
  },
  {
   "cell_type": "code",
   "execution_count": 50,
   "metadata": {},
   "outputs": [
    {
     "data": {
      "text/plain": [
       "12"
      ]
     },
     "execution_count": 50,
     "metadata": {},
     "output_type": "execute_result"
    }
   ],
   "source": [
    "parData2001.union(parData2002).union(parData2003).distinct().count()"
   ]
  },
  {
   "cell_type": "code",
   "execution_count": 51,
   "metadata": {},
   "outputs": [
    {
     "data": {
      "text/plain": [
       "['RIN1', 'RIN2', 'RIN5', 'RIN6']"
      ]
     },
     "execution_count": 51,
     "metadata": {},
     "output_type": "execute_result"
    }
   ],
   "source": [
    "#   Projects Completed in the First Year\n",
    "firstYearCompletion = parData2001.subtract(parData2002)\n",
    "firstYearCompletion.collect()"
   ]
  },
  {
   "cell_type": "code",
   "execution_count": null,
   "metadata": {},
   "outputs": [],
   "source": [
    "#   Projects Completed in the First Year\n",
    "firstYearCompletion = parData2001.subtract(parData2002)\n",
    "firstYearCompletion.collect()"
   ]
  },
  {
   "cell_type": "code",
   "execution_count": 54,
   "metadata": {},
   "outputs": [
    {
     "data": {
      "text/plain": [
       "['RIN1', 'RIN2', 'RIN3', 'RIN5', 'RIN9', 'RIN6', 'RIN7']"
      ]
     },
     "execution_count": 54,
     "metadata": {},
     "output_type": "execute_result"
    }
   ],
   "source": [
    "#   Projects Completed in the First/Second Year\n",
    "Completion_12 = (parData2001.union(parData2002)).subtract(parData2003)\n",
    "Completion_12.distinct().collect()"
   ]
  },
  {
   "cell_type": "code",
   "execution_count": 57,
   "metadata": {},
   "outputs": [
    {
     "data": {
      "text/plain": [
       "['RIN3', 'RIN7']"
      ]
     },
     "execution_count": 57,
     "metadata": {},
     "output_type": "execute_result"
    }
   ],
   "source": [
    "#   Finding Projects Started in 2001 and Continued Through 2003\n",
    "one = parData2001.intersection(parData2002)\n",
    "one.subtract(parData2003).collect()"
   ]
  },
  {
   "cell_type": "markdown",
   "metadata": {},
   "source": []
  }
 ],
 "metadata": {
  "kernelspec": {
   "display_name": "Python 3",
   "language": "python",
   "name": "python3"
  },
  "language_info": {
   "codemirror_mode": {
    "name": "ipython",
    "version": 3
   },
   "file_extension": ".py",
   "mimetype": "text/x-python",
   "name": "python",
   "nbconvert_exporter": "python",
   "pygments_lexer": "ipython3",
   "version": "3.10.10"
  },
  "orig_nbformat": 4
 },
 "nbformat": 4,
 "nbformat_minor": 2
}
